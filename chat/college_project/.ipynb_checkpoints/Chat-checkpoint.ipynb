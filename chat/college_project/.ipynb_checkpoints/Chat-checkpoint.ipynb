{
 "cells": [
  {
   "cell_type": "code",
   "execution_count": 3,
   "id": "8b30b223",
   "metadata": {},
   "outputs": [
    {
     "ename": "SyntaxError",
     "evalue": "invalid syntax (<ipython-input-3-ca50ae199016>, line 3)",
     "output_type": "error",
     "traceback": [
      "\u001b[0;36m  File \u001b[0;32m\"<ipython-input-3-ca50ae199016>\"\u001b[0;36m, line \u001b[0;32m3\u001b[0m\n\u001b[0;31m    import\u001b[0m\n\u001b[0m           ^\u001b[0m\n\u001b[0;31mSyntaxError\u001b[0m\u001b[0;31m:\u001b[0m invalid syntax\n"
     ]
    }
   ],
   "source": [
    "from tkinter import ttk  # Normal Tkinter.* widgets are not themed!\n",
    "from ttkthemes import ThemedTk\n",
    "class App:\n",
    "    def __init__(self,root):\n",
    "        self.root = root\n",
    "        self.config(self.root)\n",
    "    \n",
    "    # This is to config the root window\n",
    "    def config(self,root):\n",
    "        root.title(\"Chat Application\")\n",
    "        root.geometry(\"600x520\")        \n",
    "                \n",
    "if __name__ == \"__main__\":\n",
    "    root = ThemedTk(\"arc\")\n",
    "    App(root)\n",
    "    root.mainloop()"
   ]
  },
  {
   "cell_type": "code",
   "execution_count": null,
   "id": "ff222ff7",
   "metadata": {},
   "outputs": [],
   "source": []
  }
 ],
 "metadata": {
  "kernelspec": {
   "display_name": "Python 3 (ipykernel)",
   "language": "python",
   "name": "python3"
  },
  "language_info": {
   "codemirror_mode": {
    "name": "ipython",
    "version": 3
   },
   "file_extension": ".py",
   "mimetype": "text/x-python",
   "name": "python",
   "nbconvert_exporter": "python",
   "pygments_lexer": "ipython3",
   "version": "3.8.10"
  }
 },
 "nbformat": 4,
 "nbformat_minor": 5
}
